{
 "cells": [
  {
   "cell_type": "markdown",
   "metadata": {},
   "source": [
    "# Spruce tree type detection"
   ]
  },
  {
   "cell_type": "code",
   "execution_count": 13,
   "metadata": {},
   "outputs": [],
   "source": [
    "import pandas as pd\n",
    "from sklearn.model_selection import train_test_split, cross_val_score\n",
    "from sklearn.preprocessing import StandardScaler, LabelEncoder\n",
    "from sklearn.tree import DecisionTreeClassifier\n",
    "from sklearn.neighbors import KNeighborsClassifier\n",
    "from sklearn.svm import SVC\n",
    "from sklearn.ensemble import RandomForestClassifier, GradientBoostingClassifier\n",
    "from sklearn.metrics import classification_report, confusion_matrix, accuracy_score, f1_score\n",
    "import matplotlib.pyplot as plt\n",
    "import seaborn as sns"
   ]
  },
  {
   "cell_type": "markdown",
   "metadata": {},
   "source": [
    "# Dataset"
   ]
  },
  {
   "cell_type": "code",
   "execution_count": 14,
   "metadata": {},
   "outputs": [],
   "source": [
    "data = pd.read_csv(\"dataset/Spruce.csv\")"
   ]
  },
  {
   "cell_type": "markdown",
   "metadata": {},
   "source": [
    "## 1. Exploratory Data Analysis (EDA)\n"
   ]
  },
  {
   "cell_type": "code",
   "execution_count": 15,
   "metadata": {},
   "outputs": [
    {
     "name": "stdout",
     "output_type": "stream",
     "text": [
      "   Elevation  Slope  Horizontal_Distance_To_Hydrology  \\\n",
      "0       2596      3                               258   \n",
      "1       2590      2                               212   \n",
      "2       2804      9                               268   \n",
      "3       2785     18                               242   \n",
      "4       2595      2                               153   \n",
      "\n",
      "   Vertical_Distance_To_Hydrology  Horizontal_Distance_To_Roadways  \\\n",
      "0                               0                              510   \n",
      "1                              -6                              390   \n",
      "2                              65                             3180   \n",
      "3                             118                             3090   \n",
      "4                              -1                              391   \n",
      "\n",
      "   Horizontal_Distance_To_Fire_Points  Soil_Type1  Soil_Type2  Soil_Type3  \\\n",
      "0                                6279           0           0           0   \n",
      "1                                6225           0           0           0   \n",
      "2                                6121           0           0           0   \n",
      "3                                6211           0           0           0   \n",
      "4                                6172           0           0           0   \n",
      "\n",
      "   Soil_Type4  ...  Soil_Type30  Soil_Type31  Soil_Type32  Soil_Type33  \\\n",
      "0           0  ...            0            0            0            0   \n",
      "1           0  ...            0            0            0            0   \n",
      "2           0  ...            0            0            0            0   \n",
      "3           0  ...            0            0            0            0   \n",
      "4           0  ...            0            0            0            0   \n",
      "\n",
      "   Soil_Type34  Soil_Type35  Soil_Type36  Soil_Type37  Soil_Type38  Tree_Type  \n",
      "0            0            0            0            0            0      Other  \n",
      "1            0            0            0            0            0      Other  \n",
      "2            0            0            0            0            0      Other  \n",
      "3            0            0            0            0            0      Other  \n",
      "4            0            0            0            0            0      Other  \n",
      "\n",
      "[5 rows x 45 columns]\n",
      "Tree_Type\n",
      "Other     12960\n",
      "Spruce     2160\n",
      "Name: count, dtype: int64\n"
     ]
    }
   ],
   "source": [
    "print(data.head())  # Check first few rows\n",
    "print(data['Tree_Type'].value_counts())  # Check class distribution"
   ]
  },
  {
   "cell_type": "markdown",
   "metadata": {},
   "source": [
    "### Visualize the class distribution\n"
   ]
  },
  {
   "cell_type": "code",
   "execution_count": 16,
   "metadata": {},
   "outputs": [
    {
     "data": {
      "image/png": "[encoded data removed]",
      "text/plain": [
       "<Figure size 800x600 with 1 Axes>"
      ]
     },
     "metadata": {},
     "output_type": "display_data"
    }
   ],
   "source": [
    "plt.figure(figsize=(8, 6))\n",
    "sns.countplot(x='Tree_Type', data=data)\n",
    "plt.title('Class Distribution')\n",
    "plt.show()"
   ]
  },
  {
   "cell_type": "markdown",
   "metadata": {},
   "source": [
    "### Check for missing values\n"
   ]
  },
  {
   "cell_type": "code",
   "execution_count": 17,
   "metadata": {},
   "outputs": [
    {
     "name": "stdout",
     "output_type": "stream",
     "text": [
      "Elevation                             0\n",
      "Slope                                 0\n",
      "Horizontal_Distance_To_Hydrology      0\n",
      "Vertical_Distance_To_Hydrology        0\n",
      "Horizontal_Distance_To_Roadways       0\n",
      "Horizontal_Distance_To_Fire_Points    0\n",
      "Soil_Type1                            0\n",
      "Soil_Type2                            0\n",
      "Soil_Type3                            0\n",
      "Soil_Type4                            0\n",
      "Soil_Type5                            0\n",
      "Soil_Type6                            0\n",
      "Soil_Type7                            0\n",
      "Soil_Type8                            0\n",
      "Soil_Type9                            0\n",
      "Soil_Type10                           0\n",
      "Soil_Type11                           0\n",
      "Soil_Type12                           0\n",
      "Soil_Type13                           0\n",
      "Soil_Type14                           0\n",
      "Soil_Type15                           0\n",
      "Soil_Type16                           0\n",
      "Soil_Type17                           0\n",
      "Soil_Type18                           0\n",
      "Soil_Type19                           0\n",
      "Soil_Type20                           0\n",
      "Soil_Type21                           0\n",
      "Soil_Type22                           0\n",
      "Soil_Type23                           0\n",
      "Soil_Type24                           0\n",
      "Soil_Type25                           0\n",
      "Soil_Type26                           0\n",
      "Soil_Type27                           0\n",
      "Soil_Type28                           0\n",
      "Soil_Type29                           0\n",
      "Soil_Type30                           0\n",
      "Soil_Type31                           0\n",
      "Soil_Type32                           0\n",
      "Soil_Type33                           0\n",
      "Soil_Type34                           0\n",
      "Soil_Type35                           0\n",
      "Soil_Type36                           0\n",
      "Soil_Type37                           0\n",
      "Soil_Type38                           0\n",
      "Tree_Type                             0\n",
      "dtype: int64\n"
     ]
    }
   ],
   "source": [
    "print(data.isnull().sum())"
   ]
  },
  {
   "cell_type": "markdown",
   "metadata": {},
   "source": [
    "## 2. Data Pre-processing\n",
    "### Encode categorical variable 'Tree_Type'"
   ]
  },
  {
   "cell_type": "code",
   "execution_count": 18,
   "metadata": {},
   "outputs": [],
   "source": [
    "label_encoder = LabelEncoder()\n",
    "data['Tree_Type'] = label_encoder.fit_transform(data['Tree_Type'])"
   ]
  },
  {
   "cell_type": "markdown",
   "metadata": {},
   "source": [
    "### Split the dataset into training and testing sets\n"
   ]
  },
  {
   "cell_type": "code",
   "execution_count": 19,
   "metadata": {},
   "outputs": [],
   "source": [
    "X = data.drop('Tree_Type', axis=1)\n",
    "y = data['Tree_Type']\n",
    "X_train, X_test, y_train, y_test = train_test_split(X, y, test_size=0.2, random_state=42)"
   ]
  },
  {
   "cell_type": "markdown",
   "metadata": {},
   "source": [
    "### Standardize/normalize data if necessary\n"
   ]
  },
  {
   "cell_type": "code",
   "execution_count": 20,
   "metadata": {},
   "outputs": [],
   "source": [
    "scaler = StandardScaler()\n",
    "X_train = scaler.fit_transform(X_train)\n",
    "X_test = scaler.transform(X_test)"
   ]
  },
  {
   "cell_type": "markdown",
   "metadata": {},
   "source": [
    "## 3. Identification of Target Concept\n",
    "### Target variable: 'Tree_Type'"
   ]
  },
  {
   "cell_type": "markdown",
   "metadata": {},
   "source": [
    "## 4. Selection and Parameterization of Learning Algorithms\n",
    "### Initialize models\n"
   ]
  },
  {
   "cell_type": "code",
   "execution_count": 21,
   "metadata": {},
   "outputs": [],
   "source": [
    "models = [\n",
    "    DecisionTreeClassifier(),\n",
    "    RandomForestClassifier(),\n",
    "    GradientBoostingClassifier(),\n",
    "    KNeighborsClassifier(),\n",
    "    SVC(),\n",
    "]"
   ]
  },
  {
   "cell_type": "markdown",
   "metadata": {},
   "source": [
    "## 5. Training and Evaluation\n",
    "### Train and evaluate models"
   ]
  },
  {
   "cell_type": "code",
   "execution_count": 22,
   "metadata": {},
   "outputs": [
    {
     "name": "stdout",
     "output_type": "stream",
     "text": [
      "DecisionTreeClassifier\n",
      "Accuracy: 0.9146825396825397\n",
      "F1-Score: 0.8247948583208699\n",
      "Confusion Matrix:\n",
      " [[2466  137]\n",
      " [ 121  300]]\n",
      "Classification Report:\n",
      "               precision    recall  f1-score   support\n",
      "\n",
      "           0       0.95      0.95      0.95      2603\n",
      "           1       0.69      0.71      0.70       421\n",
      "\n",
      "    accuracy                           0.91      3024\n",
      "   macro avg       0.82      0.83      0.82      3024\n",
      "weighted avg       0.92      0.91      0.92      3024\n",
      "\n",
      "Cross-Validation Accuracy: 0.87 (+/- 0.08)\n",
      "--------------------------------------------------\n",
      "RandomForestClassifier\n",
      "Accuracy: 0.9318783068783069\n",
      "F1-Score: 0.8506729669322354\n",
      "Confusion Matrix:\n",
      " [[2524   79]\n",
      " [ 127  294]]\n",
      "Classification Report:\n",
      "               precision    recall  f1-score   support\n",
      "\n",
      "           0       0.95      0.97      0.96      2603\n",
      "           1       0.79      0.70      0.74       421\n",
      "\n",
      "    accuracy                           0.93      3024\n",
      "   macro avg       0.87      0.83      0.85      3024\n",
      "weighted avg       0.93      0.93      0.93      3024\n",
      "\n",
      "Cross-Validation Accuracy: 0.91 (+/- 0.05)\n",
      "--------------------------------------------------\n",
      "GradientBoostingClassifier\n",
      "Accuracy: 0.9034391534391535\n",
      "F1-Score: 0.7905666177123536\n",
      "Confusion Matrix:\n",
      " [[2476  127]\n",
      " [ 165  256]]\n",
      "Classification Report:\n",
      "               precision    recall  f1-score   support\n",
      "\n",
      "           0       0.94      0.95      0.94      2603\n",
      "           1       0.67      0.61      0.64       421\n",
      "\n",
      "    accuracy                           0.90      3024\n",
      "   macro avg       0.80      0.78      0.79      3024\n",
      "weighted avg       0.90      0.90      0.90      3024\n",
      "\n",
      "Cross-Validation Accuracy: 0.89 (+/- 0.05)\n",
      "--------------------------------------------------\n",
      "KNeighborsClassifier\n",
      "Accuracy: 0.9146825396825397\n",
      "F1-Score: 0.8121748173969985\n",
      "Confusion Matrix:\n",
      " [[2500  103]\n",
      " [ 155  266]]\n",
      "Classification Report:\n",
      "               precision    recall  f1-score   support\n",
      "\n",
      "           0       0.94      0.96      0.95      2603\n",
      "           1       0.72      0.63      0.67       421\n",
      "\n",
      "    accuracy                           0.91      3024\n",
      "   macro avg       0.83      0.80      0.81      3024\n",
      "weighted avg       0.91      0.91      0.91      3024\n",
      "\n",
      "Cross-Validation Accuracy: 0.87 (+/- 0.07)\n",
      "--------------------------------------------------\n",
      "SVC\n",
      "Accuracy: 0.8998015873015873\n",
      "F1-Score: 0.7480115737258493\n",
      "Confusion Matrix:\n",
      " [[2534   69]\n",
      " [ 234  187]]\n",
      "Classification Report:\n",
      "               precision    recall  f1-score   support\n",
      "\n",
      "           0       0.92      0.97      0.94      2603\n",
      "           1       0.73      0.44      0.55       421\n",
      "\n",
      "    accuracy                           0.90      3024\n",
      "   macro avg       0.82      0.71      0.75      3024\n",
      "weighted avg       0.89      0.90      0.89      3024\n",
      "\n",
      "Cross-Validation Accuracy: 0.86 (+/- 0.00)\n",
      "--------------------------------------------------\n"
     ]
    }
   ],
   "source": [
    "for model in models:\n",
    "    model.fit(X_train, y_train)\n",
    "    y_pred = model.predict(X_test)\n",
    "    print(type(model).__name__)\n",
    "    print(\"Accuracy:\", accuracy_score(y_test, y_pred))\n",
    "    print(\"F1-Score:\", f1_score(y_test, y_pred, average='macro'))\n",
    "    print(\"Confusion Matrix:\\n\", confusion_matrix(y_test, y_pred))\n",
    "    print(\"Classification Report:\\n\", classification_report(y_test, y_pred))\n",
    "    \n",
    "    # Verify accuracy using cross-validation\n",
    "    scores = cross_val_score(model, X, y, cv=5, scoring='accuracy')\n",
    "    print(\"Cross-Validation Accuracy: %0.2f (+/- %0.2f)\" % (scores.mean(), scores.std() * 2))\n",
    "    print(\"-\" * 50)"
   ]
  },
  {
   "cell_type": "markdown",
   "metadata": {},
   "source": [
    "## 6. Results Comparison\n",
    "### Visualize and compare results"
   ]
  },
  {
   "cell_type": "code",
   "execution_count": 23,
   "metadata": {},
   "outputs": [
    {
     "data": {
      "image/png": "[encoded data removed]",
      "text/plain": [
       "<Figure size 1000x800 with 2 Axes>"
      ]
     },
     "metadata": {},
     "output_type": "display_data"
    }
   ],
   "source": [
    "plt.figure(figsize=(10, 8))\n",
    "sns.heatmap(confusion_matrix(y_test, y_pred), annot=True, cmap='Blues')\n",
    "plt.xlabel('Predicted Labels')\n",
    "plt.ylabel('True Labels')\n",
    "plt.title('Confusion Matrix')\n",
    "plt.show()"
   ]
  }
 ],
 "metadata": {
  "kernelspec": {
   "display_name": "Python 3",
   "language": "python",
   "name": "python3"
  },
  "language_info": {
   "codemirror_mode": {
    "name": "ipython",
    "version": 3
   },
   "file_extension": ".py",
   "mimetype": "text/x-python",
   "name": "python",
   "nbconvert_exporter": "python",
   "pygments_lexer": "ipython3",
   "version": "3.12.2"
  }
 },
 "nbformat": 4,
 "nbformat_minor": 2
}
